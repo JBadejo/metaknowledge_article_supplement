{
 "cells": [
  {
   "cell_type": "markdown",
   "metadata": {},
   "source": [
    "![](images/mk.png)\n",
    "\n",
    "<h1><center>ONLINE SUPPLEMENT</center></h1>\n",
    "\n",
    "John McLevey & Reid-McIlroy-Young. **Introducing *metaknowledge*: Software for Computational Research in Information Science, Science of Science, and Network Analysis.** *Journal of Informetrics*. XX(XX):XX-XX.\n",
    "\n",
    "<h1><center>Part 3: Text Analysis</center></h1>\n",
    "\n",
    "These supplementary notebooks were prepared by Dr. [John McLevey](http://www.johnmclevey.com/) (University of Waterloo), [Reid McIlroy-Young](http://reidmcy.com/) (University of Chicago), and [Jillian Anderson](http://networkslab.org/) (NetLab, University of Waterloo). The code in this notebook is current as of *metaknowledge* version XXX."
   ]
  },
  {
   "cell_type": "code",
   "execution_count": 20,
   "metadata": {
    "collapsed": false
   },
   "outputs": [
    {
     "name": "stderr",
     "output_type": "stream",
     "text": [
      "/Users/johnmclevey/anaconda/lib/python3.4/site-packages/matplotlib/__init__.py:878: UserWarning: axes.color_cycle is deprecated and replaced with axes.prop_cycle; please use the latter.\n",
      "  warnings.warn(self.msg_depr % (key, alt_key))\n"
     ]
    }
   ],
   "source": [
    "import metaknowledge as mk\n",
    "import seaborn as sns\n",
    "import matplotlib as plt\n",
    "import pandas\n",
    "import os\n",
    "\n",
    "sns.set_style(style=\"white\") # change the default background plot colour\n",
    "sns.set(font_scale=.7)\n",
    "\n",
    "plt.rc(\"savefig\", dpi=300) # improve default resolution of graphics\n",
    "\n",
    "os.chdir('.')"
   ]
  },
  {
   "cell_type": "code",
   "execution_count": 21,
   "metadata": {
    "collapsed": false
   },
   "outputs": [],
   "source": [
    "RC = mk.RecordCollection('raw_data/imetrics/', cached = True)"
   ]
  },
  {
   "cell_type": "markdown",
   "metadata": {},
   "source": [
    "# Burst Detection"
   ]
  },
  {
   "cell_type": "code",
   "execution_count": 22,
   "metadata": {
    "collapsed": true
   },
   "outputs": [],
   "source": [
    "bursts = RC.forBurst('keywords', 'generated_datasets/bursts.csv', removeNumbers = True , removeDelimeters = True)\n",
    "bursts"
   ]
  },
  {
   "cell_type": "markdown",
   "metadata": {},
   "source": [
    "Why doesn't this ^ produce anything... ??? Can't do an example until this is fixed. "
   ]
  },
  {
   "cell_type": "markdown",
   "metadata": {},
   "source": [
    "# Topic Models"
   ]
  },
  {
   "cell_type": "code",
   "execution_count": 23,
   "metadata": {
    "collapsed": false
   },
   "outputs": [
    {
     "ename": "AttributeError",
     "evalue": "'RecordCollection' object has no attribute 'forTopicModel'",
     "output_type": "error",
     "traceback": [
      "\u001b[0;31m---------------------------------------------------------------------------\u001b[0m",
      "\u001b[0;31mAttributeError\u001b[0m                            Traceback (most recent call last)",
      "\u001b[0;32m<ipython-input-23-8efa4618ca0c>\u001b[0m in \u001b[0;36m<module>\u001b[0;34m()\u001b[0m\n\u001b[0;32m----> 1\u001b[0;31m RC.forTopicModel('generated_datasets/topic_model/', toLower = True, \n\u001b[0m\u001b[1;32m      2\u001b[0m                  removeNumbers = True, removeDelimeters = True, removeWhitespace = True)\n",
      "\u001b[0;31mAttributeError\u001b[0m: 'RecordCollection' object has no attribute 'forTopicModel'"
     ]
    }
   ],
   "source": [
    "RC.forTopicModel('generated_datasets/topic_model/', toLower = True, \n",
    "                 removeNumbers = True, removeDelimeters = True, removeWhitespace = True)"
   ]
  },
  {
   "cell_type": "code",
   "execution_count": null,
   "metadata": {
    "collapsed": true
   },
   "outputs": [],
   "source": []
  }
 ],
 "metadata": {
  "kernelspec": {
   "display_name": "Python 3",
   "language": "python",
   "name": "python3"
  },
  "language_info": {
   "codemirror_mode": {
    "name": "ipython",
    "version": 3
   },
   "file_extension": ".py",
   "mimetype": "text/x-python",
   "name": "python",
   "nbconvert_exporter": "python",
   "pygments_lexer": "ipython3",
   "version": "3.4.3"
  }
 },
 "nbformat": 4,
 "nbformat_minor": 0
}
